{
 "cells": [
  {
   "cell_type": "markdown",
   "id": "4d8dfbde-632e-4c20-bff1-7fa0c5da397b",
   "metadata": {},
   "source": [
    "# Step 1: Define Objectives"
   ]
  },
  {
   "cell_type": "code",
   "execution_count": 52,
   "id": "364b8c84-ddf1-4662-b644-982859a89424",
   "metadata": {},
   "outputs": [
    {
     "name": "stdout",
     "output_type": "stream",
     "text": [
      "{'segment': 'customers', 'target': 'increase market share', 'identify': 'distinct customer segments'}\n"
     ]
    }
   ],
   "source": [
    "\n",
    "def define_objectives():\n",
    "    objectives = {\n",
    "        \"segment\": \"customers\",\n",
    "        \"target\": \"increase market share\",\n",
    "        \"identify\": \"distinct customer segments\"\n",
    "    }\n",
    "    return objectives\n",
    "\n",
    "objectives = define_objectives()\n",
    "print(objectives)\n"
   ]
  },
  {
   "cell_type": "markdown",
   "id": "c77d7062-43d6-4516-8da7-5060fb6c84dc",
   "metadata": {},
   "source": [
    "# Step 2: Select Segmentation Variables"
   ]
  },
  {
   "cell_type": "code",
   "execution_count": 53,
   "id": "428f5b92-e84b-421a-bdf3-49eb87be2f52",
   "metadata": {},
   "outputs": [
    {
     "name": "stdout",
     "output_type": "stream",
     "text": [
      "['Age']\n"
     ]
    }
   ],
   "source": [
    "import pandas as pd\n",
    "\n",
    "# Load the data\n",
    "data = pd.read_csv('mcdonalds.csv')\n",
    "\n",
    "def select_segmentation_variables(data):\n",
    "    return data.select_dtypes(include=['number']).columns.tolist()\n",
    "\n",
    "segmentation_vars = select_segmentation_variables(data)\n",
    "print(segmentation_vars)\n"
   ]
  },
  {
   "cell_type": "markdown",
   "id": "c39a50f1-7423-4622-ac99-7bac36604024",
   "metadata": {},
   "source": [
    "# Step 3: Collect Data"
   ]
  },
  {
   "cell_type": "code",
   "execution_count": 65,
   "id": "5e1d33aa-d4b7-43d2-a985-98ee79000322",
   "metadata": {},
   "outputs": [],
   "source": [
    "##This step is already covered by loading the CSV file in Step 2, so we can consider it completed."
   ]
  },
  {
   "cell_type": "markdown",
   "id": "c9fb12bc-c3e2-4e02-a25d-027d79704c81",
   "metadata": {},
   "source": [
    "# Step 4: Explore Data"
   ]
  },
  {
   "cell_type": "code",
   "execution_count": 54,
   "id": "06c6a267-0cbe-4901-9d53-758626a2dd90",
   "metadata": {},
   "outputs": [
    {
     "name": "stdout",
     "output_type": "stream",
     "text": [
      "  yummy convenient spicy fattening greasy fast cheap tasty expensive healthy  \\\n",
      "0    No        Yes    No       Yes     No  Yes   Yes    No       Yes      No   \n",
      "1   Yes        Yes    No       Yes    Yes  Yes   Yes   Yes       Yes      No   \n",
      "2    No        Yes   Yes       Yes    Yes  Yes    No   Yes       Yes     Yes   \n",
      "3   Yes        Yes    No       Yes    Yes  Yes   Yes   Yes        No      No   \n",
      "4    No        Yes    No       Yes    Yes  Yes   Yes    No        No     Yes   \n",
      "\n",
      "  disgusting Like  Age      VisitFrequency  Gender  \n",
      "0         No   -3   61  Every three months  Female  \n",
      "1         No   +2   51  Every three months  Female  \n",
      "2         No   +1   62  Every three months  Female  \n",
      "3        Yes   +4   69         Once a week  Female  \n",
      "4         No   +2   49        Once a month    Male  \n",
      "               Age\n",
      "count  1453.000000\n",
      "mean     44.604955\n",
      "std      14.221178\n",
      "min      18.000000\n",
      "25%      33.000000\n",
      "50%      45.000000\n",
      "75%      57.000000\n",
      "max      71.000000\n",
      "<class 'pandas.core.frame.DataFrame'>\n",
      "RangeIndex: 1453 entries, 0 to 1452\n",
      "Data columns (total 15 columns):\n",
      " #   Column          Non-Null Count  Dtype \n",
      "---  ------          --------------  ----- \n",
      " 0   yummy           1453 non-null   object\n",
      " 1   convenient      1453 non-null   object\n",
      " 2   spicy           1453 non-null   object\n",
      " 3   fattening       1453 non-null   object\n",
      " 4   greasy          1453 non-null   object\n",
      " 5   fast            1453 non-null   object\n",
      " 6   cheap           1453 non-null   object\n",
      " 7   tasty           1453 non-null   object\n",
      " 8   expensive       1453 non-null   object\n",
      " 9   healthy         1453 non-null   object\n",
      " 10  disgusting      1453 non-null   object\n",
      " 11  Like            1453 non-null   object\n",
      " 12  Age             1453 non-null   int64 \n",
      " 13  VisitFrequency  1453 non-null   object\n",
      " 14  Gender          1453 non-null   object\n",
      "dtypes: int64(1), object(14)\n",
      "memory usage: 170.4+ KB\n",
      "None\n"
     ]
    },
    {
     "data": {
      "image/png": "[encoded data removed]",
      "text/plain": [
       "<Figure size 250x250 with 2 Axes>"
      ]
     },
     "metadata": {},
     "output_type": "display_data"
    }
   ],
   "source": [
    "\n",
    "import seaborn as sns\n",
    "import matplotlib.pyplot as plt\n",
    "\n",
    "def explore_data(data):\n",
    "    print(data.head())\n",
    "    print(data.describe())\n",
    "    print(data.info())\n",
    "    sns.pairplot(data)\n",
    "    plt.show()\n",
    "\n",
    "explore_data(data)\n"
   ]
  },
  {
   "cell_type": "markdown",
   "id": "fec059ce-241f-43cd-ad36-dfac54643ff6",
   "metadata": {},
   "source": [
    "# Step 5: Extract Segments"
   ]
  },
  {
   "cell_type": "code",
   "execution_count": 55,
   "id": "9edfc608-2092-4b2e-b480-1d7a795febb6",
   "metadata": {},
   "outputs": [
    {
     "name": "stdout",
     "output_type": "stream",
     "text": [
      "Segment\n",
      "0    518\n",
      "2    480\n",
      "1    455\n",
      "Name: count, dtype: int64\n"
     ]
    }
   ],
   "source": [
    "from sklearn.preprocessing import StandardScaler\n",
    "from sklearn.cluster import KMeans\n",
    "\n",
    "def extract_segments(data, n_clusters=3):\n",
    "    scaler = StandardScaler()\n",
    "    numeric_data = data.select_dtypes(include=['number'])\n",
    "    scaled_data = scaler.fit_transform(numeric_data)\n",
    "    \n",
    "    kmeans = KMeans(n_clusters=n_clusters, random_state=42)\n",
    "    data['Segment'] = kmeans.fit_predict(scaled_data)\n",
    "    return data, kmeans, scaled_data\n",
    "\n",
    "data, kmeans, scaled_data = extract_segments(data, n_clusters=3)\n",
    "print(data['Segment'].value_counts())\n"
   ]
  },
  {
   "cell_type": "markdown",
   "id": "adb70f42-bfc4-4656-9341-c5455c23be97",
   "metadata": {},
   "source": [
    "# Step 6: Profile Segments"
   ]
  },
  {
   "cell_type": "code",
   "execution_count": 56,
   "id": "1cf71a2b-f6be-46f5-ba42-0e16b3e27316",
   "metadata": {},
   "outputs": [
    {
     "name": "stdout",
     "output_type": "stream",
     "text": [
      "               Age  Segment\n",
      "Segment                    \n",
      "0        28.608108      0.0\n",
      "1        45.837363      1.0\n",
      "2        60.700000      2.0\n"
     ]
    }
   ],
   "source": [
    "def profile_segments(data):\n",
    "    numeric_columns = data.select_dtypes(include=['number']).columns\n",
    "    segment_profiles = data.groupby('Segment')[numeric_columns].mean()\n",
    "    return segment_profiles\n",
    "\n",
    "segment_profiles = profile_segments(data)\n",
    "print(segment_profiles)\n"
   ]
  },
  {
   "cell_type": "markdown",
   "id": "f60a8c55-1f3e-45db-a0b4-73d3b666c53c",
   "metadata": {},
   "source": [
    "# Step 7: Describe Segments"
   ]
  },
  {
   "cell_type": "code",
   "execution_count": 57,
   "id": "97b0e181-26c9-4597-80e9-0a5c40056edc",
   "metadata": {},
   "outputs": [
    {
     "name": "stdout",
     "output_type": "stream",
     "text": [
      "               Age  Segment\n",
      "Segment                    \n",
      "0        28.608108      0.0\n",
      "1        45.837363      1.0\n",
      "2        60.700000      2.0\n"
     ]
    }
   ],
   "source": [
    "def describe_segments(segment_profiles):\n",
    "    print(segment_profiles)\n",
    "\n",
    "describe_segments(segment_profiles)\n"
   ]
  },
  {
   "cell_type": "markdown",
   "id": "388218df-c38c-46cf-a363-75de28546f7f",
   "metadata": {},
   "source": [
    "# Step 8: Select Target Segment"
   ]
  },
  {
   "cell_type": "code",
   "execution_count": 58,
   "id": "8e05bd1b-d566-4ee3-bf80-0e57a60a1689",
   "metadata": {},
   "outputs": [
    {
     "name": "stdout",
     "output_type": "stream",
     "text": [
      "Target Segment: 0\n"
     ]
    }
   ],
   "source": [
    "def select_target_segment(data, criteria='size'):\n",
    "    if criteria == 'size':\n",
    "        target_segment = data['Segment'].value_counts().idxmax()\n",
    "    else:\n",
    "        target_segment = data.groupby('Segment').mean().sort_values(by=criteria, ascending=False).index[0]\n",
    "    return target_segment\n",
    "\n",
    "target_segment = select_target_segment(data, criteria='size')\n",
    "print(f\"Target Segment: {target_segment}\")\n"
   ]
  },
  {
   "cell_type": "markdown",
   "id": "32980e3b-39ae-4e89-b5ab-e3b43af72ef7",
   "metadata": {},
   "source": [
    "# Step 9: Implement Segmentation Strategy"
   ]
  },
  {
   "cell_type": "code",
   "execution_count": 59,
   "id": "ab84331e-2a59-4578-9857-ee7702a96645",
   "metadata": {},
   "outputs": [
    {
     "name": "stdout",
     "output_type": "stream",
     "text": [
      "Implementing strategy for target segment: 0\n"
     ]
    }
   ],
   "source": [
    "def implement_strategy(target_segment):\n",
    "    print(f\"Implementing strategy for target segment: {target_segment}\")\n",
    "\n",
    "implement_strategy(target_segment)\n"
   ]
  },
  {
   "cell_type": "markdown",
   "id": "7a82b0e0-89da-447e-b37c-ee4ddd67ad0d",
   "metadata": {},
   "source": [
    "# Step 10: Evaluation and Monitoring"
   ]
  },
  {
   "cell_type": "code",
   "execution_count": 60,
   "id": "ad118a7a-2c4c-4aa4-a4af-239ca7b80584",
   "metadata": {},
   "outputs": [
    {
     "name": "stdout",
     "output_type": "stream",
     "text": [
      "KMeans Inertia: 178.44495978923584\n"
     ]
    },
    {
     "data": {
      "image/png": "[encoded data removed]",
      "text/plain": [
       "<Figure size 640x480 with 1 Axes>"
      ]
     },
     "metadata": {},
     "output_type": "display_data"
    }
   ],
   "source": [
    "from sklearn.decomposition import PCA\n",
    "\n",
    "def evaluate_and_monitor(data, kmeans, scaled_data):\n",
    "    inertia = kmeans.inertia_\n",
    "    print(f\"KMeans Inertia: {inertia}\")\n",
    "    \n",
    "    # Apply PCA for visualization\n",
    "    num_features = scaled_data.shape[1]\n",
    "    n_components = min(2, num_features)\n",
    "    \n",
    "    pca = PCA(n_components=n_components)\n",
    "    pca_data = pca.fit_transform(scaled_data)\n",
    "    pca_df = pd.DataFrame(data=pca_data, columns=[f'PC{i+1}' for i in range(n_components)])\n",
    "    pca_df['Segment'] = data['Segment']\n",
    "    \n",
    "    # Plot PCA results\n",
    "    if n_components == 2:\n",
    "        sns.scatterplot(x='PC1', y='PC2', hue='Segment', data=pca_df, palette='viridis')\n",
    "        plt.title('Customer Segments Visualization using PCA')\n",
    "    else:\n",
    "        sns.scatterplot(x='PC1', y=[0]*len(pca_df), hue='Segment', data=pca_df, palette='viridis')\n",
    "        plt.title('Customer Segments Visualization using PCA (1D)')\n",
    "    \n",
    "    plt.show()\n",
    "\n",
    "evaluate_and_monitor(data, kmeans, scaled_data)\n"
   ]
  },
  {
   "cell_type": "code",
   "execution_count": null,
   "id": "300ba770-d28e-4d1f-a694-98348374fa94",
   "metadata": {},
   "outputs": [],
   "source": []
  }
 ],
 "metadata": {
  "kernelspec": {
   "display_name": "Python 3 (ipykernel)",
   "language": "python",
   "name": "python3"
  },
  "language_info": {
   "codemirror_mode": {
    "name": "ipython",
    "version": 3
   },
   "file_extension": ".py",
   "mimetype": "text/x-python",
   "name": "python",
   "nbconvert_exporter": "python",
   "pygments_lexer": "ipython3",
   "version": "3.10.14"
  }
 },
 "nbformat": 4,
 "nbformat_minor": 5
}
